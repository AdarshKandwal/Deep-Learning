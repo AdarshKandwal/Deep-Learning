{
 "cells": [
  {
   "cell_type": "code",
   "execution_count": 3,
   "metadata": {},
   "outputs": [
    {
     "name": "stdout",
     "output_type": "stream",
     "text": [
      "2.1.0\n"
     ]
    }
   ],
   "source": [
    "import tensorflow as tf\n",
    "print(tf.__version__)\n"
   ]
  },
  {
   "cell_type": "code",
   "execution_count": 7,
   "metadata": {},
   "outputs": [
    {
     "name": "stderr",
     "output_type": "stream",
     "text": [
      "WARNING:absl:Warning: Setting shuffle_files=True because split=TRAIN and shuffle_files=None. This behavior will be deprecated on 2019-08-06, at which point shuffle_files=False will be the default for all splits.\n"
     ]
    }
   ],
   "source": [
    "import tensorflow_datasets as tfds\n",
    "imdb,info=tfds.load(\"imdb_reviews\",with_info=True,as_supervised=True)"
   ]
  },
  {
   "cell_type": "code",
   "execution_count": 21,
   "metadata": {},
   "outputs": [
    {
     "data": {
      "text/plain": [
       "list"
      ]
     },
     "execution_count": 21,
     "metadata": {},
     "output_type": "execute_result"
    }
   ],
   "source": [
    "import numpy as np\n",
    "\n",
    "train_data,test_data=imdb['train'],imdb['test']\n",
    "\n",
    "training_sentences=[]\n",
    "training_labels=[]\n",
    "testing_sentences=[]\n",
    "testing_labels=[]\n",
    "\n",
    "for s,l in train_data:\n",
    "  training_sentences.append(s.numpy().decode('utf8'))\n",
    "  training_labels.append(l.numpy())\n",
    "  \n",
    "for s,l in test_data:\n",
    "  testing_sentences.append(s.numpy().decode('utf8'))\n",
    "  testing_labels.append(l.numpy())\n",
    "  \n",
    "training_labels_final = np.array(training_labels)\n",
    "testing_labels_final = np.array(testing_labels)\n",
    "\n",
    "type(training_sentences)"
   ]
  },
  {
   "cell_type": "code",
   "execution_count": 26,
   "metadata": {},
   "outputs": [],
   "source": [
    "vocab_size = 10000\n",
    "embedding_dim = 16\n",
    "max_length = 120\n",
    "trunc_type = 'post'\n",
    "oov_tok = \"<OOV>\"\n",
    "\n",
    "from tensorflow.keras.preprocessing.text import Tokenizer\n",
    "from tensorflow.keras.preprocessing.sequence import pad_sequences\n",
    "\n",
    "tokenizer=Tokenizer(num_words=vocab_size,oov_token=oov_tok)\n",
    "tokenizer.fit_on_texts(training_sentences)\n",
    "word_index=tokenizer.word_index\n",
    "sequences=tokenizer.texts_to_sequences(training_sentences)\n",
    "padded=pad_sequences(sequences,maxlen=max_length,truncating=trunc_type)"
   ]
  },
  {
   "cell_type": "code",
   "execution_count": 33,
   "metadata": {},
   "outputs": [],
   "source": [
    "testing_sequences = tokenizer.texts_to_sequences(testing_sentences)\n",
    "testing_padded = pad_sequences(testing_sequences,maxlen=max_length)"
   ]
  },
  {
   "cell_type": "code",
   "execution_count": 36,
   "metadata": {},
   "outputs": [
    {
     "name": "stdout",
     "output_type": "stream",
     "text": [
      "i am a huge woody allen fan and so when i saw that this was playing at the cinema i couldn't help myself i wanted to see how allen would follow up his magnificent film match point seeing as this is another one of his films shot in g b which is unique among allen's work along with what seems to be his new <OOV> scarlett <OOV> scoop is much lighter than <OOV> and the humor is <OOV> most enjoyable aspect the plot revolves around <OOV> character a <OOV> student who gets a tip on a hot story from beyond the grave she falls in love with a suspected serial killer jackman and she must decide whether the truth is\n",
      "I am a huge Woody Allen fan and so when I saw that this was playing at the cinema I couldn't help myself. I wanted to see how Allen would follow up his magnificent film Match Point seeing as this is another one of his films shot in G.B. (which is unique among Allen's work) along with what seems to be his new muse Scarlett Johanson. Scoop is much lighter than MP and the humor is Scoop's most enjoyable aspect. The plot revolves around Johanson's character (a journalism student) who gets a tip on a hot story from beyond the grave. She falls in love with a suspected serial killer (Jackman) and she must decide whether the truth is worth finding. Oh and all of this is done with the help of a bumbling magician turned detective played by Allen.<br /><br />I must say that I thoroughly enjoyed Johanson's performance but I am a bit bias, I could watch a three hour film with Johanson in ever frame and remain enchanted. She plays a ditsy, yappy, bumbling sweetheart that is kind of a variation in a sense of Allen's stereotypical neurosis stricken character. She adds appropriate body language for comic effect. Needless to say almost anyone who sees this will find Johanson's character sickeningly cute and that is a plus.<br /><br />Allen is Allen... He is still playing the same character much like Chaplin and his Little Tramp character. Something that occur in this film makes me wonder if I will see the neurotic little hypochondriac again however. He is not in the cast of his next picture and has been spending more time exclusively behind the camera as of late...<br /><br />Jackman is also enjoyable as the suave, millionaire murder suspect. I cannot say that Jackman does anything in particular to make the role his but he suits his character none the less.<br /><br />In terms of the plot I cannot help but feel that this is fresh... In fact it stinks of Curse of the Jade Scorpion. Johanson and Allen are more detective-like than anything. However I must applaud Allen on his ending because it is a bit more clever than your typical unoutstanding Hollywood version of this film. Instead of everything being black and white, things are painted in shades of gray. Being entirely innocent has nothing to do with it nor does unequivocal guilt. Though the plot seemed old Woody still has a knack for one liners. I did find his allusions to his last film interesting... Come for the humor, laugh and be merry.<br /><br />Needless to say if you enjoy Allen's work watch it. If not watch something else...\n"
     ]
    }
   ],
   "source": [
    "reverse_word_index = dict([(value, key) for (key, value) in word_index.items()])\n",
    "\n",
    "def decode_review(text):\n",
    "    return ' '.join([reverse_word_index.get(i, '?') for i in text])\n",
    "\n",
    "print(decode_review(padded[3]))\n",
    "print(training_sentences[3])"
   ]
  },
  {
   "cell_type": "code",
   "execution_count": 38,
   "metadata": {},
   "outputs": [
    {
     "name": "stdout",
     "output_type": "stream",
     "text": [
      "Model: \"sequential_1\"\n",
      "_________________________________________________________________\n",
      "Layer (type)                 Output Shape              Param #   \n",
      "=================================================================\n",
      "embedding_1 (Embedding)      (None, 120, 16)           160000    \n",
      "_________________________________________________________________\n",
      "flatten_1 (Flatten)          (None, 1920)              0         \n",
      "_________________________________________________________________\n",
      "dense_2 (Dense)              (None, 6)                 11526     \n",
      "_________________________________________________________________\n",
      "dense_3 (Dense)              (None, 1)                 7         \n",
      "=================================================================\n",
      "Total params: 171,533\n",
      "Trainable params: 171,533\n",
      "Non-trainable params: 0\n",
      "_________________________________________________________________\n"
     ]
    }
   ],
   "source": [
    "model = tf.keras.Sequential([\n",
    "    tf.keras.layers.Embedding(vocab_size, embedding_dim, input_length=max_length),\n",
    "    tf.keras.layers.Flatten(),\n",
    "    tf.keras.layers.Dense(6, activation='relu'),\n",
    "    tf.keras.layers.Dense(1, activation='sigmoid')\n",
    "])\n",
    "model.compile(loss='binary_crossentropy',optimizer='adam',metrics=['accuracy'])\n",
    "model.summary()\n"
   ]
  },
  {
   "cell_type": "code",
   "execution_count": 39,
   "metadata": {
    "scrolled": true
   },
   "outputs": [
    {
     "name": "stdout",
     "output_type": "stream",
     "text": [
      "Train on 25000 samples, validate on 25000 samples\n",
      "Epoch 1/10\n",
      "25000/25000 [==============================] - 7s 265us/sample - loss: 0.4965 - accuracy: 0.7406 - val_loss: 0.3458 - val_accuracy: 0.8502\n",
      "Epoch 2/10\n",
      "25000/25000 [==============================] - 5s 208us/sample - loss: 0.2389 - accuracy: 0.9092 - val_loss: 0.3576 - val_accuracy: 0.8428\n",
      "Epoch 3/10\n",
      "25000/25000 [==============================] - 6s 250us/sample - loss: 0.0905 - accuracy: 0.9770 - val_loss: 0.4520 - val_accuracy: 0.8280\n",
      "Epoch 4/10\n",
      "25000/25000 [==============================] - 9s 341us/sample - loss: 0.0216 - accuracy: 0.9974 - val_loss: 0.5293 - val_accuracy: 0.8280\n",
      "Epoch 5/10\n",
      "25000/25000 [==============================] - 10s 407us/sample - loss: 0.0054 - accuracy: 0.9996 - val_loss: 0.5969 - val_accuracy: 0.8284\n",
      "Epoch 6/10\n",
      "25000/25000 [==============================] - 8s 312us/sample - loss: 0.0017 - accuracy: 1.0000 - val_loss: 0.6482 - val_accuracy: 0.8271\n",
      "Epoch 7/10\n",
      "25000/25000 [==============================] - 8s 314us/sample - loss: 8.4519e-04 - accuracy: 1.0000 - val_loss: 0.6878 - val_accuracy: 0.8288\n",
      "Epoch 8/10\n",
      "25000/25000 [==============================] - 6s 250us/sample - loss: 4.5540e-04 - accuracy: 1.0000 - val_loss: 0.7278 - val_accuracy: 0.8288\n",
      "Epoch 9/10\n",
      "25000/25000 [==============================] - 7s 265us/sample - loss: 2.6219e-04 - accuracy: 1.0000 - val_loss: 0.7639 - val_accuracy: 0.8295\n",
      "Epoch 10/10\n",
      "25000/25000 [==============================] - 6s 257us/sample - loss: 1.6576e-04 - accuracy: 1.0000 - val_loss: 0.8010 - val_accuracy: 0.8301\n"
     ]
    },
    {
     "data": {
      "text/plain": [
       "<tensorflow.python.keras.callbacks.History at 0x218503e5d88>"
      ]
     },
     "execution_count": 39,
     "metadata": {},
     "output_type": "execute_result"
    }
   ],
   "source": [
    "num_epochs = 10\n",
    "model.fit(padded, training_labels_final, epochs=num_epochs, validation_data=(testing_padded, testing_labels_final))"
   ]
  },
  {
   "cell_type": "code",
   "execution_count": 41,
   "metadata": {},
   "outputs": [
    {
     "name": "stdout",
     "output_type": "stream",
     "text": [
      "(10000, 16)\n"
     ]
    }
   ],
   "source": [
    "e = model.layers[0]\n",
    "weights = e.get_weights()[0]\n",
    "print(weights.shape) # shape: (vocab_size, embedding_dim)"
   ]
  },
  {
   "cell_type": "code",
   "execution_count": 56,
   "metadata": {
    "scrolled": true
   },
   "outputs": [
    {
     "name": "stdout",
     "output_type": "stream",
     "text": [
      "[[9.9996781e-01]\n",
      " [9.9999988e-01]\n",
      " [1.0000000e+00]\n",
      " ...\n",
      " [1.4399976e-05]\n",
      " [3.4082227e-04]\n",
      " [9.9995399e-01]]\n"
     ]
    },
    {
     "data": {
      "text/plain": [
       "2"
      ]
     },
     "execution_count": 56,
     "metadata": {},
     "output_type": "execute_result"
    }
   ],
   "source": [
    "sentence = \"I really think this is amazing. honest.\"\n",
    "sequence = tokenizer.texts_to_sequences([sentence])\n",
    "padded = pad_sequences(sequences, maxlen=max_length, padding='post', truncating=trunc_type)\n",
    "print(model.predict(padded))\n",
    "np.argmax(model.predict(padded))\n",
    "\n"
   ]
  },
  {
   "cell_type": "code",
   "execution_count": 59,
   "metadata": {},
   "outputs": [],
   "source": [
    "import io\n",
    "\n",
    "out_v = io.open('vecs.tsv', 'w', encoding='utf-8')\n",
    "out_m = io.open('meta.tsv', 'w', encoding='utf-8')\n",
    "for word_num in range(1, vocab_size):\n",
    "  word = reverse_word_index[word_num]\n",
    "  embeddings = weights[word_num]\n",
    "  out_m.write(word + \"\\n\")\n",
    "  out_v.write('\\t'.join([str(x) for x in embeddings]) + \"\\n\")\n",
    "out_v.close()\n",
    "out_m.close()"
   ]
  },
  {
   "cell_type": "code",
   "execution_count": 60,
   "metadata": {},
   "outputs": [],
   "source": [
    "try:\n",
    "  from google.colab import files\n",
    "except ImportError:\n",
    "  pass\n",
    "else:\n",
    "  files.download('vecs.tsv')\n",
    "  files.download('meta.tsv')"
   ]
  },
  {
   "cell_type": "code",
   "execution_count": null,
   "metadata": {},
   "outputs": [],
   "source": []
  }
 ],
 "metadata": {
  "kernelspec": {
   "display_name": "Python 3",
   "language": "python",
   "name": "python3"
  },
  "language_info": {
   "codemirror_mode": {
    "name": "ipython",
    "version": 3
   },
   "file_extension": ".py",
   "mimetype": "text/x-python",
   "name": "python",
   "nbconvert_exporter": "python",
   "pygments_lexer": "ipython3",
   "version": "3.7.7"
  }
 },
 "nbformat": 4,
 "nbformat_minor": 4
}
