{
 "cells": [
  {
   "cell_type": "code",
   "execution_count": 28,
   "metadata": {},
   "outputs": [
    {
     "name": "stdout",
     "output_type": "stream",
     "text": [
      "2.1.0\n"
     ]
    }
   ],
   "source": [
    "from __future__ import absolute_import, division, print_function, unicode_literals\n",
    "\n",
    "\n",
    "import tensorflow_datasets as tfds\n",
    "import tensorflow as tf\n",
    "print(tf.__version__)"
   ]
  },
  {
   "cell_type": "code",
   "execution_count": 29,
   "metadata": {},
   "outputs": [],
   "source": [
    "import json\n",
    "import tensorflow as tf\n",
    "\n",
    "from tensorflow.keras.preprocessing.text import Tokenizer\n",
    "from tensorflow.keras.preprocessing.sequence import pad_sequences\n"
   ]
  },
  {
   "cell_type": "code",
   "execution_count": 30,
   "metadata": {},
   "outputs": [],
   "source": [
    "vocab_size=10000\n",
    "embedding_dim=15\n",
    "max_length=100\n",
    "trunc_type='post'\n",
    "padding_type='post'\n",
    "oov_tok=\"<OOV>\""
   ]
  },
  {
   "cell_type": "code",
   "execution_count": 31,
   "metadata": {},
   "outputs": [],
   "source": [
    "import tensorflow_datasets as tfds\n",
    "imdb,info=tfds.load(\"imdb_reviews\",with_info=True,as_supervised=True,shuffle_files=True,download=True)"
   ]
  },
  {
   "cell_type": "code",
   "execution_count": 45,
   "metadata": {},
   "outputs": [],
   "source": [
    "import numpy as np\n",
    "\n",
    "train_data,test_data=imdb['train'],imdb['test']\n",
    "\n",
    "training_sentences = []\n",
    "training_labels = []\n",
    "\n",
    "testing_sentences = []\n",
    "testing_labels = []\n",
    "\n",
    "\n",
    "for s,l in train_data:\n",
    "    training_sentences.append(s.numpy().decode('utf8'))\n",
    "    training_labels.append(l.numpy())\n",
    "\n",
    "for s,l in test_data:\n",
    "    testing_sentences.append(s.numpy().decode('utf8'))\n",
    "    testing_labels.append(l.numpy())\n",
    "\n",
    "training_labels_final=np.array(training_labels)\n",
    "testing_labels_final = np.array(testing_labels)"
   ]
  },
  {
   "cell_type": "code",
   "execution_count": 46,
   "metadata": {},
   "outputs": [],
   "source": [
    "from tensorflow.keras.preprocessing.text import Tokenizer\n",
    "from tensorflow.keras.preprocessing.sequence import pad_sequences\n",
    "\n",
    "tokenizer=Tokenizer(num_words=vocab_size,oov_token=oov_tok)\n",
    "tokenizer.fit_on_texts(training_sentences)\n",
    "word_index=tokenizer.word_index\n",
    "\n",
    "training_sequences=tokenizer.texts_to_sequences(training_sentences)\n",
    "training_padded=pad_sequences(training_sequences,maxlen=max_length,truncating=trunc_type)\n",
    "\n"
   ]
  },
  {
   "cell_type": "code",
   "execution_count": 47,
   "metadata": {},
   "outputs": [],
   "source": [
    "testing_sequences = tokenizer.texts_to_sequences(testing_sentences)\n",
    "testing_padded = pad_sequences(testing_sequences,maxlen=max_length)\n",
    "\n",
    "\n",
    "import numpy as np\n",
    "training_padded = np.array(training_padded)\n",
    "training_labels = np.array(training_labels)\n",
    "testing_padded = np.array(testing_padded)\n",
    "testing_labels = np.array(testing_labels)\n"
   ]
  },
  {
   "cell_type": "code",
   "execution_count": 48,
   "metadata": {},
   "outputs": [],
   "source": [
    "model=tf.keras.Sequential([\n",
    "    tf.keras.layers.Embedding(vocab_size,embedding_dim),\n",
    "    tf.keras.layers.Bidirectional(tf.keras.layers.LSTM(64,return_sequences=True)),\n",
    "    tf.keras.layers.Bidirectional(tf.keras.layers.LSTM(32,return_sequences=True)),\n",
    "    tf.keras.layers.Dense(64, activation='relu'),\n",
    "    tf.keras.layers.Dense(1, activation='sigmoid')\n",
    "])"
   ]
  },
  {
   "cell_type": "code",
   "execution_count": 49,
   "metadata": {},
   "outputs": [
    {
     "name": "stdout",
     "output_type": "stream",
     "text": [
      "Model: \"sequential_2\"\n",
      "_________________________________________________________________\n",
      "Layer (type)                 Output Shape              Param #   \n",
      "=================================================================\n",
      "embedding_2 (Embedding)      (None, None, 15)          150000    \n",
      "_________________________________________________________________\n",
      "bidirectional_4 (Bidirection (None, None, 128)         40960     \n",
      "_________________________________________________________________\n",
      "bidirectional_5 (Bidirection (None, None, 64)          41216     \n",
      "_________________________________________________________________\n",
      "dense_4 (Dense)              (None, None, 64)          4160      \n",
      "_________________________________________________________________\n",
      "dense_5 (Dense)              (None, None, 1)           65        \n",
      "=================================================================\n",
      "Total params: 236,401\n",
      "Trainable params: 236,401\n",
      "Non-trainable params: 0\n",
      "_________________________________________________________________\n"
     ]
    }
   ],
   "source": [
    "model.summary()\n",
    "model.compile(loss='binary_crossentropy', optimizer='adam', metrics=['accuracy'])\n"
   ]
  },
  {
   "cell_type": "code",
   "execution_count": 51,
   "metadata": {},
   "outputs": [
    {
     "name": "stdout",
     "output_type": "stream",
     "text": [
      "Train on 25000 samples, validate on 25000 samples\n",
      "Epoch 1/15\n",
      "25000/25000 [==============================] - 246s 10ms/sample - loss: 0.4604 - accuracy: 0.7764 - val_loss: 0.4203 - val_accuracy: 0.8106\n",
      "Epoch 2/15\n",
      "25000/25000 [==============================] - 281s 11ms/sample - loss: 0.3143 - accuracy: 0.8724 - val_loss: 0.4120 - val_accuracy: 0.8194\n",
      "Epoch 3/15\n",
      "25000/25000 [==============================] - 249s 10ms/sample - loss: 0.2580 - accuracy: 0.8999 - val_loss: 0.4337 - val_accuracy: 0.8197\n",
      "Epoch 4/15\n",
      "25000/25000 [==============================] - 275s 11ms/sample - loss: 0.2108 - accuracy: 0.9228 - val_loss: 0.4656 - val_accuracy: 0.8178\n",
      "Epoch 5/15\n",
      "25000/25000 [==============================] - 231s 9ms/sample - loss: 0.1791 - accuracy: 0.9346 - val_loss: 0.5019 - val_accuracy: 0.7998\n",
      "Epoch 6/15\n",
      "25000/25000 [==============================] - 266s 11ms/sample - loss: 0.1792 - accuracy: 0.9345 - val_loss: 0.5590 - val_accuracy: 0.8003\n",
      "Epoch 7/15\n",
      "25000/25000 [==============================] - 260s 10ms/sample - loss: 0.2279 - accuracy: 0.9196 - val_loss: 0.5420 - val_accuracy: 0.7969\n",
      "Epoch 8/15\n",
      "25000/25000 [==============================] - 272s 11ms/sample - loss: 0.1446 - accuracy: 0.9524 - val_loss: 0.6291 - val_accuracy: 0.7914\n",
      "Epoch 9/15\n",
      "25000/25000 [==============================] - 271s 11ms/sample - loss: 0.1146 - accuracy: 0.9643 - val_loss: 0.6675 - val_accuracy: 0.7836\n",
      "Epoch 10/15\n",
      "25000/25000 [==============================] - 265s 11ms/sample - loss: 0.0810 - accuracy: 0.9768 - val_loss: 0.7167 - val_accuracy: 0.7962\n",
      "Epoch 11/15\n",
      "25000/25000 [==============================] - 245s 10ms/sample - loss: 0.0705 - accuracy: 0.9797 - val_loss: 0.8096 - val_accuracy: 0.7924\n",
      "Epoch 12/15\n",
      "25000/25000 [==============================] - 293s 12ms/sample - loss: 0.0608 - accuracy: 0.9837 - val_loss: 0.8245 - val_accuracy: 0.7874\n",
      "Epoch 13/15\n",
      "25000/25000 [==============================] - 264s 11ms/sample - loss: 0.0560 - accuracy: 0.9846 - val_loss: 0.8342 - val_accuracy: 0.7923\n",
      "Epoch 14/15\n",
      "25000/25000 [==============================] - 293s 12ms/sample - loss: 0.0526 - accuracy: 0.9856 - val_loss: 0.8488 - val_accuracy: 0.7844\n",
      "Epoch 15/15\n",
      "25000/25000 [==============================] - 266s 11ms/sample - loss: 0.0602 - accuracy: 0.9831 - val_loss: 0.9907 - val_accuracy: 0.7913\n"
     ]
    },
    {
     "data": {
      "text/plain": [
       "<tensorflow.python.keras.callbacks.History at 0x1fd823f2408>"
      ]
     },
     "execution_count": 51,
     "metadata": {},
     "output_type": "execute_result"
    }
   ],
   "source": [
    "num_epochs = 15\n",
    "model.fit(training_padded,training_labels, epochs=num_epochs, validation_data=(testing_padded, testing_labels))"
   ]
  },
  {
   "cell_type": "code",
   "execution_count": 56,
   "metadata": {},
   "outputs": [
    {
     "ename": "NameError",
     "evalue": "name 'history' is not defined",
     "output_type": "error",
     "traceback": [
      "\u001b[1;31m---------------------------------------------------------------------------\u001b[0m",
      "\u001b[1;31mNameError\u001b[0m                                 Traceback (most recent call last)",
      "\u001b[1;32m<ipython-input-56-68f1dad78984>\u001b[0m in \u001b[0;36m<module>\u001b[1;34m\u001b[0m\n\u001b[0;32m     10\u001b[0m   \u001b[0mplt\u001b[0m\u001b[1;33m.\u001b[0m\u001b[0mshow\u001b[0m\u001b[1;33m(\u001b[0m\u001b[1;33m)\u001b[0m\u001b[1;33m\u001b[0m\u001b[1;33m\u001b[0m\u001b[0m\n\u001b[0;32m     11\u001b[0m \u001b[1;33m\u001b[0m\u001b[0m\n\u001b[1;32m---> 12\u001b[1;33m \u001b[0mplot_graphs\u001b[0m\u001b[1;33m(\u001b[0m\u001b[0mhistory\u001b[0m\u001b[1;33m,\u001b[0m \u001b[1;34m'accuracy'\u001b[0m\u001b[1;33m)\u001b[0m\u001b[1;33m\u001b[0m\u001b[1;33m\u001b[0m\u001b[0m\n\u001b[0m\u001b[0;32m     13\u001b[0m \u001b[0mplot_graphs\u001b[0m\u001b[1;33m(\u001b[0m\u001b[0mhistory\u001b[0m\u001b[1;33m,\u001b[0m \u001b[1;34m'loss'\u001b[0m\u001b[1;33m)\u001b[0m\u001b[1;33m\u001b[0m\u001b[1;33m\u001b[0m\u001b[0m\n",
      "\u001b[1;31mNameError\u001b[0m: name 'history' is not defined"
     ]
    }
   ],
   "source": []
  },
  {
   "cell_type": "code",
   "execution_count": null,
   "metadata": {},
   "outputs": [],
   "source": []
  }
 ],
 "metadata": {
  "kernelspec": {
   "display_name": "Python 3",
   "language": "python",
   "name": "python3"
  },
  "language_info": {
   "codemirror_mode": {
    "name": "ipython",
    "version": 3
   },
   "file_extension": ".py",
   "mimetype": "text/x-python",
   "name": "python",
   "nbconvert_exporter": "python",
   "pygments_lexer": "ipython3",
   "version": "3.7.7"
  }
 },
 "nbformat": 4,
 "nbformat_minor": 4
}
