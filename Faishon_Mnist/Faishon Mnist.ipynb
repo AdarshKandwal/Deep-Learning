{
 "cells": [
  {
   "cell_type": "markdown",
   "metadata": {},
   "source": [
    "<h1>Faishon Mnist Dataset disected</h1>"
   ]
  },
  {
   "cell_type": "code",
   "execution_count": 3,
   "metadata": {},
   "outputs": [],
   "source": [
    "import tensorflow as tf\n",
    "import numpy as np\n",
    "from tensorflow import keras"
   ]
  },
  {
   "cell_type": "code",
   "execution_count": 4,
   "metadata": {},
   "outputs": [],
   "source": [
    "mnist=tf.keras.datasets.fashion_mnist"
   ]
  },
  {
   "cell_type": "code",
   "execution_count": 5,
   "metadata": {},
   "outputs": [],
   "source": [
    "(training_images,training_lables),(test_images,test_labels)=mnist.load_data()"
   ]
  },
  {
   "cell_type": "code",
   "execution_count": 11,
   "metadata": {},
   "outputs": [
    {
     "name": "stdout",
     "output_type": "stream",
     "text": [
      "9\n",
      "[[  0   0   0   0   0   0   0   0   0   0   0   0   0   0   0   0   0   0   0   0   0   0   0   0   0   0   0   0]\n",
      " [  0   0   0   0   0   0   0   0   0   0   0   0   0   0   0   0   0   0   0   0   0   0   0   0   0   0   0   0]\n",
      " [  0   0   0   0   0   0   0   0   0   0   0   0   0   0   0   0   0   0   0   0   0   0   0   0   0   0   0   0]\n",
      " [  0   0   0   0   0   0   0   0   0   0   0   0   1   0   0  13  73   0   0   1   4   0   0   0   0   1   1   0]\n",
      " [  0   0   0   0   0   0   0   0   0   0   0   0   3   0  36 136 127  62  54   0   0   0   1   3   4   0   0   3]\n",
      " [  0   0   0   0   0   0   0   0   0   0   0   0   6   0 102 204 176 134 144 123  23   0   0   0   0  12  10   0]\n",
      " [  0   0   0   0   0   0   0   0   0   0   0   0   0   0 155 236 207 178 107 156 161 109  64  23  77 130  72  15]\n",
      " [  0   0   0   0   0   0   0   0   0   0   0   1   0  69 207 223 218 216 216 163 127 121 122 146 141  88 172  66]\n",
      " [  0   0   0   0   0   0   0   0   0   1   1   1   0 200 232 232 233 229 223 223 215 213 164 127 123 196 229   0]\n",
      " [  0   0   0   0   0   0   0   0   0   0   0   0   0 183 225 216 223 228 235 227 224 222 224 221 223 245 173   0]\n",
      " [  0   0   0   0   0   0   0   0   0   0   0   0   0 193 228 218 213 198 180 212 210 211 213 223 220 243 202   0]\n",
      " [  0   0   0   0   0   0   0   0   0   1   3   0  12 219 220 212 218 192 169 227 208 218 224 212 226 197 209  52]\n",
      " [  0   0   0   0   0   0   0   0   0   0   6   0  99 244 222 220 218 203 198 221 215 213 222 220 245 119 167  56]\n",
      " [  0   0   0   0   0   0   0   0   0   4   0   0  55 236 228 230 228 240 232 213 218 223 234 217 217 209  92   0]\n",
      " [  0   0   1   4   6   7   2   0   0   0   0   0 237 226 217 223 222 219 222 221 216 223 229 215 218 255  77   0]\n",
      " [  0   3   0   0   0   0   0   0   0  62 145 204 228 207 213 221 218 208 211 218 224 223 219 215 224 244 159   0]\n",
      " [  0   0   0   0  18  44  82 107 189 228 220 222 217 226 200 205 211 230 224 234 176 188 250 248 233 238 215   0]\n",
      " [  0  57 187 208 224 221 224 208 204 214 208 209 200 159 245 193 206 223 255 255 221 234 221 211 220 232 246   0]\n",
      " [  3 202 228 224 221 211 211 214 205 205 205 220 240  80 150 255 229 221 188 154 191 210 204 209 222 228 225   0]\n",
      " [ 98 233 198 210 222 229 229 234 249 220 194 215 217 241  65  73 106 117 168 219 221 215 217 223 223 224 229  29]\n",
      " [ 75 204 212 204 193 205 211 225 216 185 197 206 198 213 240 195 227 245 239 223 218 212 209 222 220 221 230  67]\n",
      " [ 48 203 183 194 213 197 185 190 194 192 202 214 219 221 220 236 225 216 199 206 186 181 177 172 181 205 206 115]\n",
      " [  0 122 219 193 179 171 183 196 204 210 213 207 211 210 200 196 194 191 195 191 198 192 176 156 167 177 210  92]\n",
      " [  0   0  74 189 212 191 175 172 175 181 185 188 189 188 193 198 204 209 210 210 211 188 188 194 192 216 170   0]\n",
      " [  2   0   0   0  66 200 222 237 239 242 246 243 244 221 220 193 191 179 182 182 181 176 166 168  99  58   0   0]\n",
      " [  0   0   0   0   0   0   0  40  61  44  72  41  35   0   0   0   0   0   0   0   0   0   0   0   0   0   0   0]\n",
      " [  0   0   0   0   0   0   0   0   0   0   0   0   0   0   0   0   0   0   0   0   0   0   0   0   0   0   0   0]\n",
      " [  0   0   0   0   0   0   0   0   0   0   0   0   0   0   0   0   0   0   0   0   0   0   0   0   0   0   0   0]]\n"
     ]
    },
    {
     "data": {
      "image/png": "[encoded data removed]",
      "text/plain": [
       "<Figure size 432x288 with 1 Axes>"
      ]
     },
     "metadata": {
      "needs_background": "light"
     },
     "output_type": "display_data"
    }
   ],
   "source": [
    "import numpy as np \n",
    "np.set_printoptions(linewidth=300)\n",
    "import matplotlib.pyplot as plt\n",
    "plt.imshow(training_images[0])\n",
    "print(training_lables[0])\n",
    "print(training_images[0])"
   ]
  },
  {
   "cell_type": "code",
   "execution_count": 12,
   "metadata": {},
   "outputs": [],
   "source": [
    "#normalize the data \n",
    "\n",
    "model=tf.keras.models.Sequential([tf.keras.layers.Flatten(),\n",
    "                tf.keras.layers.Dense(128, activation=tf.nn.relu),\n",
    "                tf.keras.layers.Dense(10, activation=tf.nn.softmax)])\n"
   ]
  },
  {
   "cell_type": "code",
   "execution_count": 14,
   "metadata": {},
   "outputs": [
    {
     "name": "stdout",
     "output_type": "stream",
     "text": [
      "Train on 60000 samples\n",
      "Epoch 1/5\n",
      "60000/60000 [==============================] - 6s 104us/sample - loss: 3.1207 - accuracy: 0.7127\n",
      "Epoch 2/5\n",
      "60000/60000 [==============================] - 6s 106us/sample - loss: 0.6457 - accuracy: 0.7706\n",
      "Epoch 3/5\n",
      "60000/60000 [==============================] - 6s 93us/sample - loss: 0.5598 - accuracy: 0.8059\n",
      "Epoch 4/5\n",
      "60000/60000 [==============================] - 7s 109us/sample - loss: 0.5162 - accuracy: 0.8273\n",
      "Epoch 5/5\n",
      "60000/60000 [==============================] - 5s 84us/sample - loss: 0.4898 - accuracy: 0.8364\n"
     ]
    },
    {
     "data": {
      "text/plain": [
       "<tensorflow.python.keras.callbacks.History at 0x287a6daabc8>"
      ]
     },
     "execution_count": 14,
     "metadata": {},
     "output_type": "execute_result"
    }
   ],
   "source": [
    "model.compile(optimizer = tf.optimizers.Adam(),\n",
    "              loss = 'sparse_categorical_crossentropy',\n",
    "              metrics=['accuracy'])\n",
    "\n",
    "model.fit(training_images,training_lables, epochs=5)"
   ]
  },
  {
   "cell_type": "code",
   "execution_count": 15,
   "metadata": {},
   "outputs": [
    {
     "name": "stdout",
     "output_type": "stream",
     "text": [
      "10000/10000 [==============================] - 1s 66us/sample - loss: 0.5622 - accuracy: 0.8198\n"
     ]
    },
    {
     "data": {
      "text/plain": [
       "[0.5622278966426849, 0.8198]"
      ]
     },
     "execution_count": 15,
     "metadata": {},
     "output_type": "execute_result"
    }
   ],
   "source": [
    "model.evaluate(test_images,test_labels)"
   ]
  },
  {
   "cell_type": "code",
   "execution_count": 24,
   "metadata": {},
   "outputs": [
    {
     "name": "stdout",
     "output_type": "stream",
     "text": [
      "3\n",
      "[[  0   0   0   0   0   0   0   0   0  35  76  72   0   0   0   0  81  76   2  18   0   0   0   0   0   0   0   0]\n",
      " [  0   0   0   0   0   0   0   0  98 207 240 182  96 130 138 108 150 191 193 172  78   0   0   0   0   0   0   0]\n",
      " [  0   0   0   0   0   0   0  59 156 150 223 194 206 135 130  66  10  90 153 179 228  46   0   0   0   0   0   0]\n",
      " [  0   0   0   0   0   0   0 114 161 156 212 178 200 185  75 130 192  63 116 110 163  58   0   0   0   0   0   0]\n",
      " [  0   0   0   0   0   0   0   0 123 255 204 157  95 141  44  64  90  49 122  15   0   0   0   0   0   0   0   0]\n",
      " [  0   0   0   0   0   0   0   0   0  21 219 188 157 162  65 119  63 120  62   0   0   0   0   0   0   0   0   0]\n",
      " [  0   0   0   0   0   0   0   0   0   0 161 167 206 203  77  63  58 110  53   0   1   0   0   0   0   0   0   0]\n",
      " [  0   0   0   0   0   0   0   0   0   0 110  81 181 193 162  71  36  70  56   0   1   0   0   0   0   0   0   0]\n",
      " [  0   0   0   0   0   0   0   1   0   0 104  86 224 209 185 105  33 142  37   0   2   0   0   0   0   0   0   0]\n",
      " [  0   0   0   0   0   0   0   1   0   0 109  79 218  18  95 181  34 185  56   0   1   0   0   0   0   0   0   0]\n",
      " [  0   0   0   0   0   0   0   0   0   8 114 107  98  64  62  44 145 204  90   0   2   0   0   0   0   0   0   0]\n",
      " [  0   0   0   0   0   0   0   0   0  10 109 115 110 115  34 110 205 205  86   0   0   0   0   0   0   0   0   0]\n",
      " [  0   0   0   0   0   0   0   0   0  70 185 145 139 144  47 240 200 183 142   2   0   2   0   0   0   0   0   0]\n",
      " [  0   0   0   0   0   0   0   0   0 103 157 109  54 149 255 194  55 150 199  42   0   5   0   0   0   0   0   0]\n",
      " [  0   0   0   0   0   0   0   0   0  76  73 151 196 237 222  60 119 108 114  29   0   3   0   0   0   0   0   0]\n",
      " [  0   0   0   0   0   0   0   0   0  82  64 120 156 124 251 136  36  82 171  11   0   1   0   0   0   0   0   0]\n",
      " [  0   0   0   0   0   0   0   0   0  14  76  38  23  39 225 205 147 170 249   2   0   2   0   0   0   0   0   0]\n",
      " [  0   0   0   0   0   0   0   1   0  83 158  30  41  67 238 222 214 219 180   0   0   1   0   0   0   0   0   0]\n",
      " [  0   0   0   0   0   0   0   3   0 118 211  70 176  63 191   8 141 215 126   0   0   0   0   0   0   0   0   0]\n",
      " [  0   0   0   0   0   0   0   3   0  57 234 173 145 123  99 128  91 211 122   0   0   0   0   0   0   0   0   0]\n",
      " [  0   0   0   0   0   0   0   2   0  27 216 166  83  61 168 146 120 148 116   0   0   0   0   0   0   0   0   0]\n",
      " [  0   0   0   0   0   0   0   2   0   3 220 179  91  91 165 168 161 159  77   0   2   0   0   0   0   0   0   0]\n",
      " [  0   0   0   0   0   0   0   0   0   0 173 150 205 226 169 200 189 177  48   0   2   0   0   0   0   0   0   0]\n",
      " [  0   0   0   0   0   0   0   0   0   0 171 201 237 183 136 197 188 111  35   0   2   0   0   0   0   0   0   0]\n",
      " [  0   0   0   0   0   0   0   1   0   0 153 209 230 200 192 125  94  31  17   0   2   0   0   0   0   0   0   0]\n",
      " [  0   0   0   0   0   0   0   0   0   0 182 235 221 200 218 147 118 181   0   0   1   0   0   0   0   0   0   0]\n",
      " [  0   0   0   0   0   0   0   0   0   0 152 214 239 230 218 195 149 178   3   0   1   0   0   0   0   0   0   0]\n",
      " [  0   0   0   0   0   0   0   1   0   0   0  33 134 147 123  96  94  32   0   1   0   0   0   0   0   0   0   0]]\n"
     ]
    },
    {
     "data": {
      "image/png": "[encoded data removed]",
      "text/plain": [
       "<Figure size 432x288 with 1 Axes>"
      ]
     },
     "metadata": {
      "needs_background": "light"
     },
     "output_type": "display_data"
    }
   ],
   "source": [
    "import numpy as np \n",
    "np.set_printoptions(linewidth=300)\n",
    "import matplotlib.pyplot as plt\n",
    "plt.imshow(test_images[100])\n",
    "print(test_labels[100])\n",
    "print(test_images[100])\n",
    "\n"
   ]
  },
  {
   "cell_type": "code",
   "execution_count": 25,
   "metadata": {},
   "outputs": [
    {
     "name": "stdout",
     "output_type": "stream",
     "text": [
      "[2.53240601e-03 3.86171043e-02 2.12777057e-03 9.53114212e-01 2.61210045e-03 2.00962917e-13 8.92059586e-04 0.00000000e+00 1.04294675e-04 3.38799982e-24]\n"
     ]
    }
   ],
   "source": [
    "classifications=model.predict(test_images)\n",
    "\n",
    "print(classifications[100])"
   ]
  }
 ],
 "metadata": {
  "kernelspec": {
   "display_name": "Python 3",
   "language": "python",
   "name": "python3"
  },
  "language_info": {
   "codemirror_mode": {
    "name": "ipython",
    "version": 3
   },
   "file_extension": ".py",
   "mimetype": "text/x-python",
   "name": "python",
   "nbconvert_exporter": "python",
   "pygments_lexer": "ipython3",
   "version": "3.7.7"
  }
 },
 "nbformat": 4,
 "nbformat_minor": 4
}
